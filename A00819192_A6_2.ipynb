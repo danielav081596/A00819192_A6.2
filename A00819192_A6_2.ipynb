{
  "nbformat": 4,
  "nbformat_minor": 0,
  "metadata": {
    "colab": {
      "provenance": [],
      "authorship_tag": "ABX9TyO60WJp9THs/6RNLOMXPK2F",
      "include_colab_link": true
    },
    "kernelspec": {
      "name": "python3",
      "display_name": "Python 3"
    },
    "language_info": {
      "name": "python"
    }
  },
  "cells": [
    {
      "cell_type": "markdown",
      "metadata": {
        "id": "view-in-github",
        "colab_type": "text"
      },
      "source": [
        "<a href=\"https://colab.research.google.com/github/danielav081596/A00819192_A6.2/blob/main/A00819192_A6_2.ipynb\" target=\"_parent\"><img src=\"https://colab.research.google.com/assets/colab-badge.svg\" alt=\"Open In Colab\"/></a>"
      ]
    },
    {
      "cell_type": "code",
      "source": [
        "%%writefile test_reservation_system.py\n",
        "import unittest\n",
        "import os\n",
        "import json\n",
        "\n",
        "class Hotel:\n",
        "    DATA_FILE = 'hotels.json'\n",
        "\n",
        "    def __init__(self, name, location):\n",
        "        self.name = name\n",
        "        self.location = location\n",
        "\n",
        "    @classmethod\n",
        "    def load_hotels(cls):\n",
        "        if os.path.exists(cls.DATA_FILE):\n",
        "            with open(cls.DATA_FILE, 'r', encoding='utf-8') as f:\n",
        "                return json.load(f)\n",
        "        return []\n",
        "\n",
        "    @classmethod\n",
        "    def save_hotels(cls, hotels):\n",
        "        with open(cls.DATA_FILE, 'w', encoding='utf-8') as f:\n",
        "            json.dump(hotels, f)\n",
        "\n",
        "    @classmethod\n",
        "    def create_hotel(cls, name, location):\n",
        "        hotels = cls.load_hotels()\n",
        "        hotels.append({'name': name, 'location': location})\n",
        "        cls.save_hotels(hotels)\n",
        "\n",
        "class Customer:\n",
        "    DATA_FILE = 'customers.json'\n",
        "\n",
        "    def __init__(self, name, email):\n",
        "        self.name = name\n",
        "        self.email = email\n",
        "        # Otros atributos según sea necesario\n",
        "\n",
        "    @classmethod\n",
        "    def load_customers(cls):\n",
        "        if os.path.exists(cls.DATA_FILE):\n",
        "            with open(cls.DATA_FILE, 'r', encoding='utf-8') as f:\n",
        "                return json.load(f)\n",
        "        return []\n",
        "\n",
        "    @classmethod\n",
        "    def save_customers(cls, customers):\n",
        "        with open(cls.DATA_FILE, 'w', encoding='utf-8') as f:\n",
        "            json.dump(customers, f)\n",
        "\n",
        "    @classmethod\n",
        "    def create_customer(cls, name, email):\n",
        "        customers = cls.load_customers()\n",
        "        customers.append({'name': name, 'email': email})\n",
        "        cls.save_customers(customers)\n",
        "\n",
        "class Reservation:\n",
        "    DATA_FILE = 'reservations.json'\n",
        "\n",
        "    def __init__(self, customer, hotel):\n",
        "        self.customer = customer\n",
        "        self.hotel = hotel\n",
        "\n",
        "    @classmethod\n",
        "    def load_reservations(cls):\n",
        "        if os.path.exists(cls.DATA_FILE):\n",
        "            with open(cls.DATA_FILE, 'r', encoding='utf-8') as f:\n",
        "                return json.load(f)\n",
        "        return []\n",
        "\n",
        "    @classmethod\n",
        "    def save_reservations(cls, reservations):\n",
        "        with open(cls.DATA_FILE, 'w', encoding='utf-8') as f:\n",
        "            json.dump(reservations, f)\n",
        "\n",
        "    @classmethod\n",
        "    def create_reservation(cls, customer, hotel):\n",
        "        reservations = cls.load_reservations()\n",
        "        reservations.append({'customer': customer, 'hotel': hotel})\n",
        "        cls.save_reservations(reservations)\n",
        "\n",
        "class TestHotelMethods(unittest.TestCase):\n",
        "    DATA_FILE = 'hotels_test.json'\n",
        "\n",
        "    def setUp(self):\n",
        "        # Crear un archivo de prueba de hoteles vacío antes de cada prueba\n",
        "        with open(self.DATA_FILE, 'w') as f:\n",
        "            f.write('[]')\n",
        "\n",
        "    def tearDown(self):\n",
        "        # Eliminar el archivo de prueba de hoteles después de cada prueba\n",
        "        os.remove(self.DATA_FILE)\n",
        "\n",
        "    def test_create_hotel(self):\n",
        "        Hotel.create_hotel(\"Hotel A\", \"Location A\")\n",
        "        hotels = Hotel.load_hotels()\n",
        "        self.assertEqual(len(hotels), 1)\n",
        "        self.assertEqual(hotels[0]['name'], \"Hotel A\")\n",
        "        self.assertEqual(hotels[0]['location'], \"Location A\")\n",
        "\n",
        "    # Agregar más métodos de prueba según sea necesario\n",
        "\n",
        "class TestCustomerMethods(unittest.TestCase):\n",
        "    DATA_FILE = 'customers_test.json'\n",
        "\n",
        "    def setUp(self):\n",
        "        # Crear un archivo de prueba de clientes vacío antes de cada prueba\n",
        "        with open(self.DATA_FILE, 'w') as f:\n",
        "            f.write('[]')\n",
        "\n",
        "    def tearDown(self):\n",
        "        # Eliminar el archivo de prueba de clientes después de cada prueba\n",
        "        os.remove(self.DATA_FILE)\n",
        "\n",
        "    def test_create_customer(self):\n",
        "        Customer.create_customer(\"John Doe\", \"john@example.com\")\n",
        "        customers = Customer.load_customers()\n",
        "        self.assertEqual(len(customers), 1)\n",
        "        self.assertEqual(customers[0]['name'], \"John Doe\")\n",
        "        self.assertEqual(customers[0]['email'], \"john@example.com\")\n",
        "\n",
        "    # Agregar más métodos de prueba según sea necesario\n",
        "\n",
        "class TestReservationMethods(unittest.TestCase):\n",
        "    DATA_FILE = 'reservations_test.json'\n",
        "\n",
        "    def setUp(self):\n",
        "        # Crear un archivo de prueba de reservaciones vacío antes de cada prueba\n",
        "        with open(self.DATA_FILE, 'w') as f:\n",
        "            f.write('[]')\n",
        "\n",
        "    def tearDown(self):\n",
        "        # Eliminar el archivo de prueba de reservaciones después de cada prueba\n",
        "        os.remove(self.DATA_FILE)\n",
        "\n",
        "    def test_create_reservation(self):\n",
        "        customer_data = {'name': 'John Doe', 'email': 'john@example.com'}\n",
        "        hotel_data = {'name': 'Hotel A', 'location': 'Location A'}\n",
        "        Reservation.create_reservation(customer_data, hotel_data)\n",
        "        reservations = Reservation.load_reservations()\n",
        "        self.assertEqual(len(reservations), 1)\n",
        "        self.assertEqual(reservations[0]['customer'], customer_data)\n",
        "        self.assertEqual(reservations[0]['hotel'], hotel_data)\n",
        "\n",
        "    # Agregar más métodos de prueba según sea necesario\n",
        "\n",
        "if __name__ == '__main__':\n",
        "    unittest.main()\n"
      ],
      "metadata": {
        "colab": {
          "base_uri": "https://localhost:8080/"
        },
        "id": "ijXu6n_Zx7MM",
        "outputId": "3708fecc-7ee8-46a5-a944-fda366037f60"
      },
      "execution_count": null,
      "outputs": [
        {
          "output_type": "stream",
          "name": "stdout",
          "text": [
            "Overwriting test_reservation_system.py\n"
          ]
        }
      ]
    },
    {
      "cell_type": "code",
      "source": [
        "!python test_reservation_system.py\n"
      ],
      "metadata": {
        "colab": {
          "base_uri": "https://localhost:8080/"
        },
        "id": "W2vmVxfSu--V",
        "outputId": "ff047822-3a2f-45a2-aaad-5fab910adb31"
      },
      "execution_count": null,
      "outputs": [
        {
          "output_type": "stream",
          "name": "stdout",
          "text": [
            "...\n",
            "----------------------------------------------------------------------\n",
            "Ran 3 tests in 0.002s\n",
            "\n",
            "OK\n"
          ]
        }
      ]
    },
    {
      "cell_type": "code",
      "source": [
        "!pip install coverage\n"
      ],
      "metadata": {
        "colab": {
          "base_uri": "https://localhost:8080/"
        },
        "id": "xxprWXIky0lm",
        "outputId": "f685996e-419f-4f23-8218-9a22e7fc0a8a"
      },
      "execution_count": null,
      "outputs": [
        {
          "output_type": "stream",
          "name": "stdout",
          "text": [
            "Collecting coverage\n",
            "  Downloading coverage-7.4.1-cp310-cp310-manylinux_2_5_x86_64.manylinux1_x86_64.manylinux_2_17_x86_64.manylinux2014_x86_64.whl (233 kB)\n",
            "\u001b[?25l     \u001b[90m━━━━━━━━━━━━━━━━━━━━━━━━━━━━━━━━━━━━━━━━\u001b[0m \u001b[32m0.0/234.0 kB\u001b[0m \u001b[31m?\u001b[0m eta \u001b[36m-:--:--\u001b[0m\r\u001b[2K     \u001b[91m━━━━━━━━━━━━━━━━━━━━━━━━━━\u001b[0m\u001b[90m╺\u001b[0m\u001b[90m━━━━━━━━━━━━━\u001b[0m \u001b[32m153.6/234.0 kB\u001b[0m \u001b[31m4.5 MB/s\u001b[0m eta \u001b[36m0:00:01\u001b[0m\r\u001b[2K     \u001b[90m━━━━━━━━━━━━━━━━━━━━━━━━━━━━━━━━━━━━━━━━\u001b[0m \u001b[32m234.0/234.0 kB\u001b[0m \u001b[31m5.0 MB/s\u001b[0m eta \u001b[36m0:00:00\u001b[0m\n",
            "\u001b[?25hInstalling collected packages: coverage\n",
            "Successfully installed coverage-7.4.1\n"
          ]
        }
      ]
    },
    {
      "cell_type": "code",
      "source": [
        "!coverage run test_reservation_system.py\n"
      ],
      "metadata": {
        "colab": {
          "base_uri": "https://localhost:8080/"
        },
        "id": "YJoRlIwVy6YN",
        "outputId": "ba7493fc-dec9-4fa9-bb66-d1825bbc7a5b"
      },
      "execution_count": null,
      "outputs": [
        {
          "output_type": "stream",
          "name": "stdout",
          "text": [
            "...\n",
            "----------------------------------------------------------------------\n",
            "Ran 3 tests in 0.002s\n",
            "\n",
            "OK\n"
          ]
        }
      ]
    },
    {
      "cell_type": "code",
      "source": [],
      "metadata": {
        "id": "AuV0WxMWzH5a"
      },
      "execution_count": null,
      "outputs": []
    },
    {
      "cell_type": "code",
      "source": [
        "!coverage report -m\n"
      ],
      "metadata": {
        "colab": {
          "base_uri": "https://localhost:8080/"
        },
        "id": "EuSoj6BrzKTH",
        "outputId": "1d00a9d9-5448-4020-ea0f-73e9651a6e08"
      },
      "execution_count": null,
      "outputs": [
        {
          "output_type": "stream",
          "name": "stdout",
          "text": [
            "Name                         Stmts   Miss  Cover   Missing\n",
            "----------------------------------------------------------\n",
            "test_reservation_system.py     108      6    94%   9-10, 35-36, 61-62\n",
            "----------------------------------------------------------\n",
            "TOTAL                          108      6    94%\n"
          ]
        }
      ]
    },
    {
      "cell_type": "code",
      "source": [
        "!pip install flake8 pylint"
      ],
      "metadata": {
        "colab": {
          "base_uri": "https://localhost:8080/"
        },
        "id": "v_bHLYerzmH-",
        "outputId": "df434f66-bd5a-4dbd-82cd-95494d469760"
      },
      "execution_count": null,
      "outputs": [
        {
          "output_type": "stream",
          "name": "stdout",
          "text": [
            "Collecting flake8\n",
            "  Downloading flake8-7.0.0-py2.py3-none-any.whl (57 kB)\n",
            "\u001b[2K     \u001b[90m━━━━━━━━━━━━━━━━━━━━━━━━━━━━━━━━━━━━━━━━\u001b[0m \u001b[32m57.6/57.6 kB\u001b[0m \u001b[31m2.3 MB/s\u001b[0m eta \u001b[36m0:00:00\u001b[0m\n",
            "\u001b[?25hCollecting pylint\n",
            "  Downloading pylint-3.0.3-py3-none-any.whl (510 kB)\n",
            "\u001b[2K     \u001b[90m━━━━━━━━━━━━━━━━━━━━━━━━━━━━━━━━━━━━━━━━\u001b[0m \u001b[32m510.6/510.6 kB\u001b[0m \u001b[31m14.3 MB/s\u001b[0m eta \u001b[36m0:00:00\u001b[0m\n",
            "\u001b[?25hCollecting mccabe<0.8.0,>=0.7.0 (from flake8)\n",
            "  Downloading mccabe-0.7.0-py2.py3-none-any.whl (7.3 kB)\n",
            "Collecting pycodestyle<2.12.0,>=2.11.0 (from flake8)\n",
            "  Downloading pycodestyle-2.11.1-py2.py3-none-any.whl (31 kB)\n",
            "Collecting pyflakes<3.3.0,>=3.2.0 (from flake8)\n",
            "  Downloading pyflakes-3.2.0-py2.py3-none-any.whl (62 kB)\n",
            "\u001b[2K     \u001b[90m━━━━━━━━━━━━━━━━━━━━━━━━━━━━━━━━━━━━━━━━\u001b[0m \u001b[32m62.7/62.7 kB\u001b[0m \u001b[31m9.4 MB/s\u001b[0m eta \u001b[36m0:00:00\u001b[0m\n",
            "\u001b[?25hRequirement already satisfied: platformdirs>=2.2.0 in /usr/local/lib/python3.10/dist-packages (from pylint) (4.2.0)\n",
            "Collecting astroid<=3.1.0-dev0,>=3.0.1 (from pylint)\n",
            "  Downloading astroid-3.0.3-py3-none-any.whl (275 kB)\n",
            "\u001b[2K     \u001b[90m━━━━━━━━━━━━━━━━━━━━━━━━━━━━━━━━━━━━━━━━\u001b[0m \u001b[32m275.2/275.2 kB\u001b[0m \u001b[31m18.7 MB/s\u001b[0m eta \u001b[36m0:00:00\u001b[0m\n",
            "\u001b[?25hCollecting isort!=5.13.0,<6,>=4.2.5 (from pylint)\n",
            "  Downloading isort-5.13.2-py3-none-any.whl (92 kB)\n",
            "\u001b[2K     \u001b[90m━━━━━━━━━━━━━━━━━━━━━━━━━━━━━━━━━━━━━━━━\u001b[0m \u001b[32m92.3/92.3 kB\u001b[0m \u001b[31m14.2 MB/s\u001b[0m eta \u001b[36m0:00:00\u001b[0m\n",
            "\u001b[?25hCollecting tomlkit>=0.10.1 (from pylint)\n",
            "  Downloading tomlkit-0.12.3-py3-none-any.whl (37 kB)\n",
            "Collecting dill>=0.2 (from pylint)\n",
            "  Downloading dill-0.3.8-py3-none-any.whl (116 kB)\n",
            "\u001b[2K     \u001b[90m━━━━━━━━━━━━━━━━━━━━━━━━━━━━━━━━━━━━━━━━\u001b[0m \u001b[32m116.3/116.3 kB\u001b[0m \u001b[31m13.5 MB/s\u001b[0m eta \u001b[36m0:00:00\u001b[0m\n",
            "\u001b[?25hRequirement already satisfied: tomli>=1.1.0 in /usr/local/lib/python3.10/dist-packages (from pylint) (2.0.1)\n",
            "Requirement already satisfied: typing-extensions>=4.0.0 in /usr/local/lib/python3.10/dist-packages (from astroid<=3.1.0-dev0,>=3.0.1->pylint) (4.9.0)\n",
            "Installing collected packages: tomlkit, pyflakes, pycodestyle, mccabe, isort, dill, astroid, pylint, flake8\n",
            "Successfully installed astroid-3.0.3 dill-0.3.8 flake8-7.0.0 isort-5.13.2 mccabe-0.7.0 pycodestyle-2.11.1 pyflakes-3.2.0 pylint-3.0.3 tomlkit-0.12.3\n"
          ]
        }
      ]
    },
    {
      "cell_type": "code",
      "source": [
        "!flake8 --ignore=E501,E302,W391 test_reservation_system.py\n",
        "!pylint test_reservation_system.py"
      ],
      "metadata": {
        "colab": {
          "base_uri": "https://localhost:8080/"
        },
        "id": "xVKBHjZmzij9",
        "outputId": "2564dc46-69c2-4df4-eccd-09cba65ad43b"
      },
      "execution_count": null,
      "outputs": [
        {
          "output_type": "stream",
          "name": "stdout",
          "text": [
            "\u001b[1mtest_reservation_system.py\u001b[m\u001b[36m:\u001b[m147\u001b[36m:\u001b[m1\u001b[36m:\u001b[m \u001b[1m\u001b[31mE305\u001b[m expected 2 blank lines after class or function definition, found 1\n",
            "************* Module test_reservation_system\n",
            "test_reservation_system.py:1:0: C0114: Missing module docstring (missing-module-docstring)\n",
            "test_reservation_system.py:5:0: C0115: Missing class docstring (missing-class-docstring)\n",
            "test_reservation_system.py:14:4: C0116: Missing function or method docstring (missing-function-docstring)\n",
            "test_reservation_system.py:21:4: C0116: Missing function or method docstring (missing-function-docstring)\n",
            "test_reservation_system.py:26:4: C0116: Missing function or method docstring (missing-function-docstring)\n",
            "test_reservation_system.py:31:0: C0115: Missing class docstring (missing-class-docstring)\n",
            "test_reservation_system.py:40:4: C0116: Missing function or method docstring (missing-function-docstring)\n",
            "test_reservation_system.py:47:4: C0116: Missing function or method docstring (missing-function-docstring)\n",
            "test_reservation_system.py:52:4: C0116: Missing function or method docstring (missing-function-docstring)\n",
            "test_reservation_system.py:57:0: C0115: Missing class docstring (missing-class-docstring)\n",
            "test_reservation_system.py:65:4: C0116: Missing function or method docstring (missing-function-docstring)\n",
            "test_reservation_system.py:72:4: C0116: Missing function or method docstring (missing-function-docstring)\n",
            "test_reservation_system.py:77:4: C0116: Missing function or method docstring (missing-function-docstring)\n",
            "test_reservation_system.py:82:0: C0115: Missing class docstring (missing-class-docstring)\n",
            "test_reservation_system.py:87:13: W1514: Using open without explicitly specifying an encoding (unspecified-encoding)\n",
            "test_reservation_system.py:94:4: C0116: Missing function or method docstring (missing-function-docstring)\n",
            "test_reservation_system.py:103:0: C0115: Missing class docstring (missing-class-docstring)\n",
            "test_reservation_system.py:108:13: W1514: Using open without explicitly specifying an encoding (unspecified-encoding)\n",
            "test_reservation_system.py:115:4: C0116: Missing function or method docstring (missing-function-docstring)\n",
            "test_reservation_system.py:124:0: C0115: Missing class docstring (missing-class-docstring)\n",
            "test_reservation_system.py:129:13: W1514: Using open without explicitly specifying an encoding (unspecified-encoding)\n",
            "test_reservation_system.py:136:4: C0116: Missing function or method docstring (missing-function-docstring)\n",
            "\n",
            "------------------------------------------------------------------\n",
            "Your code has been rated at 7.73/10 (previous run: 6.57/10, +1.17)\n",
            "\n"
          ]
        }
      ]
    }
  ]
}